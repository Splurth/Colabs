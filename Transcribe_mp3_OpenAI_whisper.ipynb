{
  "cells": [
    {
      "cell_type": "markdown",
      "metadata": {
        "id": "view-in-github",
        "colab_type": "text"
      },
      "source": [
        "<a href=\"https://colab.research.google.com/github/Splurth/Colabs/blob/main/Transcribe_mp3_OpenAI_whisper.ipynb\" target=\"_parent\"><img src=\"https://colab.research.google.com/assets/colab-badge.svg\" alt=\"Open In Colab\"/></a>"
      ]
    },
    {
      "cell_type": "markdown",
      "metadata": {
        "id": "neWUtrpbvRzR"
      },
      "source": [
        "# OpenAI Whisper - subtitles and transcription generation from MP3\n",
        "\n",
        "inspired by   [towardsdatascience](https://towardsdatascience.com/transcribe-audio-files-with-openais-whisper-e973ae348aa7) article\n",
        "\n",
        "go to runtime > change runtime type \n",
        "\n",
        " select GPU"
      ]
    },
    {
      "cell_type": "code",
      "execution_count": null,
      "metadata": {
        "id": "Q50BMqmqz0nH",
        "cellView": "form"
      },
      "outputs": [],
      "source": [
        "#@title Config\n",
        "\n",
        "gdriveMp3Path = '/content/gdrive/MyDrive/audio' #@param {type:\"string\"}\n",
        "gdriveOutputPath ='/content/gdrive/MyDrive/transcripts/' #@param {type:\"string\"}\n",
        "\n",
        "modelSize = \"large\" #@param [\"tiny\", \"base\",\"small\", \"medium\", \"large\"]\n"
      ]
    },
    {
      "cell_type": "markdown",
      "source": [
        "# preparation"
      ],
      "metadata": {
        "id": "NbZqDCyHPnDa"
      }
    },
    {
      "cell_type": "code",
      "execution_count": null,
      "metadata": {
        "id": "IAQJjpV5vclX"
      },
      "outputs": [],
      "source": [
        "#@title install ffmpeg {display-mode: \"form\"}\n",
        "\n",
        "%%capture\n",
        "!sudo apt update && sudo apt install ffmpeg"
      ]
    },
    {
      "cell_type": "code",
      "execution_count": null,
      "metadata": {
        "id": "qbY5ttBIvf5w"
      },
      "outputs": [],
      "source": [
        "#@title install whisper, pip deps {display-mode: \"form\"}\n",
        "\n",
        "%%capture\n",
        "%pip install git+https://github.com/openai/whisper.git\n",
        "%pip install pydub"
      ]
    },
    {
      "cell_type": "code",
      "execution_count": null,
      "metadata": {
        "id": "6KySqFin0OrY",
        "cellView": "form"
      },
      "outputs": [],
      "source": [
        "#@title Mp3 preprocessing definition\n",
        "\n",
        "from pydub import AudioSegment\n",
        "\n",
        "def mp3toWav(source):\n",
        "  sound = AudioSegment.from_mp3(source) # load source\n",
        "  sound = sound.set_channels(1) # mono\n",
        "  sound = sound.set_frame_rate(16000) # 16000Hz\n",
        "  output_path = os.path.basename(source)+\".wav\"\n",
        "  sound.export(output_path, format=\"wav\")\n",
        "  return output_path\n",
        "\n"
      ]
    },
    {
      "cell_type": "code",
      "source": [
        "#@title subtitles SRT output format\n",
        "\n",
        "from datetime import timedelta\n",
        "import os\n",
        "\n",
        "def writeStrFile(transcribe, file):\n",
        "     segments = transcribe['segments']\n",
        "\n",
        "     for segment in segments:\n",
        "        startTime = str(0)+str(timedelta(seconds=int(segment['start'])))+',000'\n",
        "        endTime = str(0)+str(timedelta(seconds=int(segment['end'])))+',000'\n",
        "        text = segment['text']\n",
        "        segmentId = segment['id']+1\n",
        "        segment = f\"{segmentId}\\n{startTime} --> {endTime}\\n{text[1:] if text[0] is ' ' else text}\\n\\n\"\n",
        "\n",
        "        with open(file, 'w', encoding='utf-8') as srtFile:\n",
        "            srtFile.write(segment)\n"
      ],
      "metadata": {
        "id": "JC6i8630eK8_",
        "cellView": "form"
      },
      "execution_count": null,
      "outputs": []
    },
    {
      "cell_type": "code",
      "source": [
        "#@title process definition : inference + generating output\n",
        "\n",
        "import os\n",
        "\n",
        "def process(file, destination):\n",
        "  if file.endswith(\"mp3\"): \n",
        "    base, filename = os.path.split(file)\n",
        "    txtFile = os.path.join(destination,filename+'.txt')\n",
        "    srtFile = os.path.join(destination,filename+'.srt')\n",
        "\n",
        "    if os.path.exists(txtFile) :\n",
        "      print(\"already processed \"+filename)\n",
        "    else:\n",
        "      #convert mp3 to wav\n",
        "      print(\"processing \"+filename)\n",
        "      wavFile = mp3toWav(file)\n",
        "\n",
        "      #transcribe\n",
        "      result = model.transcribe(wavFile)\n",
        "      print(result[\"text\"])\n",
        "\n",
        "      #save plain text\n",
        "      with open(txtFile, 'w') as writefile:\n",
        "        writefile.write(result[\"text\"].replace(\".\", \".\\r\\n\"))\n",
        "        \n",
        "      #save srt\n",
        "      writeStrFile(result,srtFile)\n",
        "\n"
      ],
      "metadata": {
        "id": "lRpw84PFKXIo",
        "cellView": "form"
      },
      "execution_count": null,
      "outputs": []
    },
    {
      "cell_type": "code",
      "source": [
        "#@title model loading & initialization\n",
        "\n",
        "model = whisper.load_model(modelSize)"
      ],
      "metadata": {
        "cellView": "form",
        "id": "dLP4b3Xeeno8"
      },
      "execution_count": null,
      "outputs": []
    },
    {
      "cell_type": "markdown",
      "source": [
        "# Option 1 :  upload mp3 to transcribe  "
      ],
      "metadata": {
        "id": "bdrO66F_Qm19"
      }
    },
    {
      "cell_type": "code",
      "execution_count": null,
      "metadata": {
        "id": "rLRbWD4M4yCP"
      },
      "outputs": [],
      "source": [
        "#@title Upload file\n",
        "\n",
        "from google.colab import files\n",
        "uploaded = files.upload()\n",
        "uploadedFilename = list(uploaded)[0]"
      ]
    },
    {
      "cell_type": "code",
      "source": [
        "#@title Process upload\n",
        "\n",
        "import whisper\n",
        "\n",
        "process(uploadedFilename, '/content/')\n"
      ],
      "metadata": {
        "id": "VIwgFs2uN1tq",
        "cellView": "form"
      },
      "execution_count": null,
      "outputs": []
    },
    {
      "cell_type": "code",
      "source": [
        "#@title download output\n",
        "\n",
        "from google.colab import files\n",
        "files.download('/content/'+uploadedFilename+'.srt')\n",
        "files.download('/content/'+uploadedFilename+'.txt')\n"
      ],
      "metadata": {
        "id": "mzmiUMGPU_3o",
        "cellView": "form"
      },
      "execution_count": null,
      "outputs": []
    },
    {
      "cell_type": "markdown",
      "source": [
        "# Option 2 : batch transcribe files from Google drive"
      ],
      "metadata": {
        "id": "LjuRXcAHQQC-"
      }
    },
    {
      "cell_type": "code",
      "execution_count": null,
      "metadata": {
        "id": "yR9CxQElzGZL"
      },
      "outputs": [],
      "source": [
        "#@title connect drive\n",
        "\n",
        "from google.colab import drive\n",
        "drive.mount('/content/gdrive', force_remount=True)\n"
      ]
    },
    {
      "cell_type": "code",
      "execution_count": null,
      "metadata": {
        "id": "wQ3pzeD_zd-B"
      },
      "outputs": [],
      "source": [
        "#@title Process Gdrive files (long running task...)\n",
        "\n",
        "import whisper\n",
        "import glob\n",
        "\n",
        "for file in glob.glob(gdriveMp3Path+\"/*.mp3\"):\n",
        "  process(file,gdriveOutputPath)\n"
      ]
    },
    {
      "cell_type": "markdown",
      "source": [
        "JS for long running colab :\n",
        "\n",
        "```\n",
        "function ConnectButton(){\n",
        "    console.log(\"Connect pushed\"); \n",
        "    document.querySelector(\"#top-toolbar > colab-connect-button\").shadowRoot.querySelector(\"#connect\").click() \n",
        "}\n",
        "setInterval(ConnectButton,60000);\n",
        "```\n",
        "\n"
      ],
      "metadata": {
        "id": "pIt_ws9Unsk2"
      }
    }
  ],
  "metadata": {
    "colab": {
      "collapsed_sections": [
        "NbZqDCyHPnDa"
      ],
      "provenance": [],
      "private_outputs": true,
      "include_colab_link": true
    },
    "kernelspec": {
      "display_name": "Python 3",
      "name": "python3"
    },
    "language_info": {
      "name": "python"
    },
    "accelerator": "GPU"
  },
  "nbformat": 4,
  "nbformat_minor": 0
}